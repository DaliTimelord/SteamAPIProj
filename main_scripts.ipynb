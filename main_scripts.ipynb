{
 "cells": [
  {
   "cell_type": "code",
   "execution_count": null,
   "metadata": {},
   "outputs": [],
   "source": [
    "import random\n",
    "import pandas as pd\n",
    "import numpy as np\n",
    "import sklearn\n",
    "from sklearn.neighbors import NearestNeighbors\n",
    "\n",
    "game_data = pd.read_csv('game_play_data.csv')\n",
    "\n",
    "def get_converted_tag_data():\n",
    "    tags = game_data.tags.unique()\n",
    "    tags_as_nums = {}\n",
    "    count = 0\n",
    "    for tag in tags:\n",
    "        tags_as_nums[tag] = count\n",
    "        count += 1\n",
    "\n",
    "    game_ids = list(game_data.Game_ID.unique())\n",
    "    game_names = []\n",
    "    game_ids_final = []\n",
    "    game_tags = []\n",
    "    game_ratings = []\n",
    "    \n",
    "    grouped = game_data.groupby('Game_ID')\n",
    "\n",
    "    for x in range(len(game_ids)):\n",
    "        grouped_game = grouped.get_group(game_ids[x])\n",
    "        t = np.array(grouped_game.tags)\n",
    "        if len(t) > 0:\n",
    "            output_tags = [0] * len(tags_as_nums)\n",
    "            for y in range(len(t)):\n",
    "                output_tags[tags_as_nums[t[y]]] = 1\n",
    "            game_names.append(grouped_game.name.unique()[0])\n",
    "            game_ids_final.append(grouped_game.Game_ID.unique()[0])\n",
    "            game_tags.append(output_tags)\n",
    "            game_ratings.append(grouped_game.rating.unique()[0])\n",
    "    \n",
    "    final_data = {'game_name': game_names, 'game_id': game_ids_final, 'game_tags': game_tags, 'game_rating': game_ratings}\n",
    "    df = pd.DataFrame(final_data)\n",
    "    return df\n",
    "\n",
    "def knn_fit_tags(data):\n",
    "    data['game_tags'] = data['game_tags'].apply(lambda x: np.array(x))\n",
    "    \n",
    "    X = []\n",
    "    for tag_list in np.array(data.game_tags):\n",
    "        X.append(tag_list)\n",
    "    y = np.array(data.game_name)\n",
    "\n",
    "    knn = NearestNeighbors(5, 1.0, metric='cosine')\n",
    "    knn.fit(X, y)\n",
    "    return knn\n",
    "\n",
    "# number_of_games must be <= 300\n",
    "# filter: 'all', no-negative', 'negative'\n",
    "def get_games_from_tags(knn, data, game_id, filter='no-negative'):\n",
    "    game_tags = data.loc[data['game_id'] == game_id].game_tags\n",
    "    game_tags = np.array(game_tags)[0]\n",
    "\n",
    "    _, name_indices = knn.kneighbors([game_tags], 400)\n",
    "\n",
    "    name_indices = name_indices[0]\n",
    "    random.shuffle(name_indices)\n",
    "    \n",
    "    game_names = []\n",
    "    game_ids = []\n",
    "    game_ratings = []\n",
    "    for index in name_indices:\n",
    "        game_names.append(data['game_name'][index])\n",
    "        game_ids.append(data['game_id'][index])\n",
    "        game_ratings.append(data['game_rating'][index])\n",
    "    \n",
    "    df = pd.DataFrame({'game_name': game_names, 'game_id': game_id, 'game_rating': game_ratings})\n",
    "    df.drop([df.loc[df['game_id'] == game_id].index[0]])\n",
    "    \n",
    "    \n",
    "    if filter == 'no-negative':\n",
    "        filters = ['Mostly Positive', 'Positive', 'Very Positive', 'Overwhelmingly Positive']\n",
    "        df = df[df.game_rating.isin(filters)]\n",
    "    elif filter == 'negative':\n",
    "        filters = ['Mixed', 'Mostly Negative', 'Negative', 'Very Negative', 'Overwhelmingly Negative']\n",
    "        df = df[df.game_rating.isin(filters)]\n",
    "    \n",
    "    return df"
   ]
  },
  {
   "cell_type": "code",
   "execution_count": null,
   "metadata": {},
   "outputs": [],
   "source": [
    "# Set up knn model for finding games with similar tags\n",
    "tag_data = get_converted_tag_data()\n",
    "knn_tags = knn_fit_tags(tag_data)"
   ]
  },
  {
   "cell_type": "code",
   "execution_count": null,
   "metadata": {},
   "outputs": [],
   "source": [
    "get_games_from_tags(knn_tags, tag_data, 578080)"
   ]
  },
  {
   "cell_type": "code",
   "execution_count": null,
   "metadata": {},
   "outputs": [],
   "source": []
  },
  {
   "cell_type": "code",
   "execution_count": null,
   "metadata": {},
   "outputs": [],
   "source": []
  },
  {
   "cell_type": "code",
   "execution_count": null,
   "metadata": {},
   "outputs": [],
   "source": []
  }
 ],
 "metadata": {
  "kernelspec": {
   "display_name": "Python 3",
   "language": "python",
   "name": "python3"
  },
  "language_info": {
   "codemirror_mode": {
    "name": "ipython",
    "version": 3
   },
   "file_extension": ".py",
   "mimetype": "text/x-python",
   "name": "python",
   "nbconvert_exporter": "python",
   "pygments_lexer": "ipython3",
   "version": "3.7.3"
  }
 },
 "nbformat": 4,
 "nbformat_minor": 4
}
