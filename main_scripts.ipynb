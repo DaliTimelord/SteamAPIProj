{
 "cells": [
  {
   "cell_type": "code",
   "execution_count": 24,
   "metadata": {},
   "outputs": [],
   "source": [
    "import random\n",
    "import pandas as pd\n",
    "import numpy as np\n",
    "import sklearn\n",
    "from sklearn.neighbors import NearestNeighbors\n",
    "\n",
    "def get_converted_tag_data(game_data):\n",
    "    tags = game_data.tags.unique()\n",
    "    tags_as_nums = {}\n",
    "    count = 0\n",
    "    for tag in tags:\n",
    "        tags_as_nums[tag] = count\n",
    "        count += 1\n",
    "\n",
    "    game_ids = list(game_data.Game_ID.unique())\n",
    "    game_names = []\n",
    "    game_ids_final = []\n",
    "    game_tags = []\n",
    "    game_ratings = []\n",
    "    \n",
    "    grouped = game_data.groupby('Game_ID')\n",
    "\n",
    "    for x in range(len(game_ids)):\n",
    "        grouped_game = grouped.get_group(game_ids[x])\n",
    "        t = np.array(grouped_game.tags)\n",
    "        if len(t) > 0:\n",
    "            output_tags = [0] * len(tags_as_nums)\n",
    "            for y in range(len(t)):\n",
    "                output_tags[tags_as_nums[t[y]]] = 1\n",
    "            game_names.append(grouped_game.name.unique()[0])\n",
    "            game_ids_final.append(grouped_game.Game_ID.unique()[0])\n",
    "            game_tags.append(output_tags)\n",
    "            game_ratings.append(grouped_game.rating.unique()[0])\n",
    "    \n",
    "    final_data = {'game_name': game_names, 'game_id': game_ids_final, 'game_tags': game_tags, 'game_rating': game_ratings}\n",
    "    df = pd.DataFrame(final_data)\n",
    "    return df\n",
    "\n",
    "def knn_fit_tags(data):\n",
    "    data['game_tags'] = data['game_tags'].apply(lambda x: np.array(x))\n",
    "    \n",
    "    X = []\n",
    "    for tag_list in np.array(data.game_tags):\n",
    "        X.append(tag_list)\n",
    "    y = np.array(data.game_name)\n",
    "\n",
    "    knn = NearestNeighbors(5, 1.0, metric='cosine')\n",
    "    knn.fit(X, y)\n",
    "    return knn\n",
    "\n",
    "# number_of_games must be <= 300\n",
    "# filter: 'all', positive', 'mixed-positive', 'negative'\n",
    "def get_games_from_tags(knn, data, game_id, filter='positive'):\n",
    "    game_tags = data.loc[data['game_id'] == game_id].game_tags\n",
    "    game_tags = np.array(game_tags)[0]\n",
    "\n",
    "    _, name_indices = knn.kneighbors([game_tags], 400)\n",
    "\n",
    "    name_indices = name_indices[0]\n",
    "    random.shuffle(name_indices)\n",
    "    \n",
    "    game_names = []\n",
    "    game_ids = []\n",
    "    game_ratings = []\n",
    "    for index in name_indices:\n",
    "        game_names.append(data['game_name'][index])\n",
    "        game_ids.append(data['game_id'][index])\n",
    "        game_ratings.append(data['game_rating'][index])\n",
    "    \n",
    "    df = pd.DataFrame({'game_name': game_names, 'game_id': game_ids, 'game_rating': game_ratings})\n",
    "    df.drop([df.loc[df['game_id'] == game_id].index[0]])\n",
    "    \n",
    "    if filter == 'positive':\n",
    "        filters = ['Mostly Positive', 'Positive', 'Very Positive', 'Overwhelmingly Positive']\n",
    "        df = df[df.game_rating.isin(filters)]\n",
    "    elif filter == 'negative':\n",
    "        filters = ['Mixed', 'Mostly Negative', 'Negative', 'Very Negative', 'Overwhelmingly Negative']\n",
    "        df = df[df.game_rating.isin(filters)]\n",
    "    elif filter == 'mixed-positive':\n",
    "        filters = ['Mixed', 'Mostly Positive', 'Positive', 'Very Positive', 'Overwhelmingly Positive']\n",
    "        df = df[df.game_rating.isin(filters)]\n",
    "    \n",
    "    return df"
   ]
  },
  {
   "cell_type": "code",
   "execution_count": 16,
   "metadata": {},
   "outputs": [],
   "source": [
    "# Set up knn model for finding games with similar tags\n",
    "tag_data = get_converted_tag_data()\n",
    "knn_tags = knn_fit_tags(tag_data)"
   ]
  },
  {
   "cell_type": "code",
   "execution_count": 32,
   "metadata": {},
   "outputs": [
    {
     "data": {
      "text/plain": [
       "'394360'"
      ]
     },
     "execution_count": 32,
     "metadata": {},
     "output_type": "execute_result"
    }
   ],
   "source": [
    "from recommendation import recommendation\n",
    "recommendation('76561197961553883', user_game_data)"
   ]
  },
  {
   "cell_type": "code",
   "execution_count": 31,
   "metadata": {},
   "outputs": [
    {
     "name": "stdout",
     "output_type": "stream",
     "text": [
      "                                  game_name  game_id              game_rating\n",
      "1  Rising Storm/Red Orchestra 2 Multiplayer    35450  Overwhelmingly Positive\n",
      "2                               World War I   361380          Mostly Positive\n",
      "3                          This War of Mine   282070            Very Positive\n",
      "4      Massive Assault: Phantom Renaissance    34640                 Positive\n",
      "6              Codename: Panzers, Phase One   411310            Very Positive\n"
     ]
    }
   ],
   "source": [
    "rec_games = get_games_from_tags(knn_tags, tag_data, int(rec), filter='positive')\n",
    "print(rec_games[:5])"
   ]
  },
  {
   "cell_type": "code",
   "execution_count": null,
   "metadata": {},
   "outputs": [],
   "source": []
  },
  {
   "cell_type": "code",
   "execution_count": null,
   "metadata": {},
   "outputs": [],
   "source": []
  }
 ],
 "metadata": {
  "kernelspec": {
   "display_name": "Python 3",
   "language": "python",
   "name": "python3"
  },
  "language_info": {
   "codemirror_mode": {
    "name": "ipython",
    "version": 3
   },
   "file_extension": ".py",
   "mimetype": "text/x-python",
   "name": "python",
   "nbconvert_exporter": "python",
   "pygments_lexer": "ipython3",
   "version": "3.7.3"
  }
 },
 "nbformat": 4,
 "nbformat_minor": 4
}
