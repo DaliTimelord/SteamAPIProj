{
 "cells": [
  {
   "cell_type": "code",
   "execution_count": 26,
   "metadata": {},
   "outputs": [
    {
     "name": "stdout",
     "output_type": "stream",
     "text": [
      "The autoreload extension is already loaded. To reload it, use:\n",
      "  %reload_ext autoreload\n"
     ]
    }
   ],
   "source": [
    "%load_ext autoreload\n",
    "%autoreload 2"
   ]
  },
  {
   "cell_type": "code",
   "execution_count": 117,
   "metadata": {},
   "outputs": [],
   "source": [
    "%reload_ext tag_scripts\n",
    "%reload_ext recommendation\n",
    "\n",
    "import random\n",
    "import pandas as pd\n",
    "import numpy as np\n",
    "import sklearn\n",
    "from recommendation import recommendation\n",
    "from sklearn import neighbors\n",
    "from tag_scripts import get_converted_tag_data, knn_fit_tags, get_games_from_tags\n",
    "KNN = neighbors.KNeighborsClassifier(metric='euclidean', n_neighbors=1)"
   ]
  },
  {
   "cell_type": "code",
   "execution_count": 29,
   "metadata": {},
   "outputs": [],
   "source": [
    "user_data = pd.read_csv('ml_cleaned_user_data.csv')\n",
    "game_data = pd.read_csv('game_play_data.csv')"
   ]
  },
  {
   "cell_type": "code",
   "execution_count": 138,
   "metadata": {},
   "outputs": [
    {
     "name": "stdout",
     "output_type": "stream",
     "text": [
      "['578080', '359550', '10190', '240', '307780', '550']\n"
     ]
    }
   ],
   "source": [
    "rec = recommendation('76561198853313000', user_data)\n",
    "print(rec)"
   ]
  },
  {
   "cell_type": "code",
   "execution_count": 115,
   "metadata": {},
   "outputs": [],
   "source": [
    "tag_data = get_converted_tag_data(game_data)\n",
    "knn_tags = knn_fit_tags(tag_data)"
   ]
  },
  {
   "cell_type": "code",
   "execution_count": 143,
   "metadata": {},
   "outputs": [
    {
     "name": "stdout",
     "output_type": "stream",
     "text": [
      "                               game_name  game_id      game_rating  \\\n",
      "0                          CastleMiner Z   253430    Very Positive   \n",
      "2                      Angels Fall First   367270    Very Positive   \n",
      "0    Serious Sam HD: The First Encounter    41000    Very Positive   \n",
      "0                        Quake III Arena     2200    Very Positive   \n",
      "2                                  L.S.S   701760  Mostly Positive   \n",
      "1  HeXen: Deathkings of the Dark Citadel     2370  Mostly Positive   \n",
      "\n",
      "                                           game_tags  \n",
      "0  [Survival, Multiplayer, Zombies, Action, Sandbox]  \n",
      "2   [Early Access, Sci-fi, FPS, Action, Multiplayer]  \n",
      "0         [FPS, Action, Co-op, Shooter, Multiplayer]  \n",
      "0  [FPS, Classic, Action, Arena Shooter, Multipla...  \n",
      "2                   [Action, Gore, Violent, Zombies]  \n",
      "1           [Action, Classic, FPS, Shooter, Fantasy]  \n"
     ]
    }
   ],
   "source": [
    "df = pd.DataFrame()\n",
    "for x in range(len(rec)):\n",
    "    df = df.append(get_games_from_tags(knn_tags, tag_data, game_data, int(rec[x]), filter='positive')[:1])\n",
    "\n",
    "print(df)"
   ]
  },
  {
   "cell_type": "code",
   "execution_count": null,
   "metadata": {},
   "outputs": [],
   "source": []
  },
  {
   "cell_type": "code",
   "execution_count": null,
   "metadata": {},
   "outputs": [],
   "source": []
  }
 ],
 "metadata": {
  "kernelspec": {
   "display_name": "Python 3",
   "language": "python",
   "name": "python3"
  },
  "language_info": {
   "codemirror_mode": {
    "name": "ipython",
    "version": 3
   },
   "file_extension": ".py",
   "mimetype": "text/x-python",
   "name": "python",
   "nbconvert_exporter": "python",
   "pygments_lexer": "ipython3",
   "version": "3.7.3"
  }
 },
 "nbformat": 4,
 "nbformat_minor": 4
}
