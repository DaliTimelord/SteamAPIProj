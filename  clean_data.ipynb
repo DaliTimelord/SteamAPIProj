{
 "cells": [
  {
   "cell_type": "code",
   "execution_count": 1,
   "metadata": {},
   "outputs": [],
   "source": [
    "import requests\n",
    "import re\n",
    "import json\n",
    "from multiprocessing import Pool\n",
    "import pandas as pd\n",
    "from pandas.io.json import json_normalize\n",
    "\n",
    "# Function defined in another file to get it to work with multiprocessing\n",
    "from get_game_metadata import get_game_metadata"
   ]
  },
  {
   "cell_type": "code",
   "execution_count": 2,
   "metadata": {},
   "outputs": [],
   "source": [
    "steam_ids0 = json.load(open('steam_ids.json', 'r'))\n",
    "users_with_games0 = json.load(open('users_with_games.json','r'))\n",
    "all_games0 = json.load(open('all_games_from_users.json','r'))"
   ]
  },
  {
   "cell_type": "markdown",
   "metadata": {},
   "source": [
    "First we'll start with getting the game data:"
   ]
  },
  {
   "cell_type": "code",
   "execution_count": 4,
   "metadata": {},
   "outputs": [],
   "source": [
    "game_keys = list(all_games0.keys())\n",
    "game_keys_test = game_keys[0:9]"
   ]
  },
  {
   "cell_type": "code",
   "execution_count": 100,
   "metadata": {},
   "outputs": [],
   "source": [
    "count = 0\n",
    "for i in game_keys:\n",
    "    if i == game_keys[0]:\n",
    "        x = all_games0[str(i)]\n",
    "        full_dataset = pd.DataFrame(x)\n",
    "        full_dataset['Game_ID'] = game_keys[count]\n",
    "        count = count + 1\n",
    "    else:\n",
    "        z = all_games0[str(i)]\n",
    "        z = pd.DataFrame(z)\n",
    "        z['Game_ID'] = game_keys[count]\n",
    "        full_dataset =  full_dataset.append(z)\n",
    "        count = count + 1\n",
    "\n",
    "full_dataset.to_csv('game_play_data.csv', index = False)\n"
   ]
  },
  {
   "cell_type": "markdown",
   "metadata": {},
   "source": [
    "Next we'll get the game play data"
   ]
  },
  {
   "cell_type": "code",
   "execution_count": 5,
   "metadata": {},
   "outputs": [
    {
     "data": {
      "text/plain": [
       "['76561198034646814', '76561198057012202']"
      ]
     },
     "execution_count": 5,
     "metadata": {},
     "output_type": "execute_result"
    }
   ],
   "source": [
    "steam_ids = list(users_with_games0.keys())\n",
    "steam_ids_test = steam_ids[7:9]\n",
    "steam_ids_test"
   ]
  },
  {
   "cell_type": "code",
   "execution_count": 15,
   "metadata": {},
   "outputs": [
    {
     "data": {
      "text/html": [
       "<div>\n",
       "<style scoped>\n",
       "    .dataframe tbody tr th:only-of-type {\n",
       "        vertical-align: middle;\n",
       "    }\n",
       "\n",
       "    .dataframe tbody tr th {\n",
       "        vertical-align: top;\n",
       "    }\n",
       "\n",
       "    .dataframe thead th {\n",
       "        text-align: right;\n",
       "    }\n",
       "</style>\n",
       "<table border=\"1\" class=\"dataframe\">\n",
       "  <thead>\n",
       "    <tr style=\"text-align: right;\">\n",
       "      <th></th>\n",
       "      <th>name</th>\n",
       "      <th>playtime</th>\n",
       "      <th>Game_ids</th>\n",
       "      <th>Steam_id</th>\n",
       "    </tr>\n",
       "  </thead>\n",
       "  <tbody>\n",
       "    <tr>\n",
       "      <th>0</th>\n",
       "      <td>Earth 2160</td>\n",
       "      <td>123</td>\n",
       "      <td>1900</td>\n",
       "      <td>76561198034646814</td>\n",
       "    </tr>\n",
       "    <tr>\n",
       "      <th>0</th>\n",
       "      <td>Team Fortress 2</td>\n",
       "      <td>22</td>\n",
       "      <td>440</td>\n",
       "      <td>76561198034646814</td>\n",
       "    </tr>\n",
       "    <tr>\n",
       "      <th>0</th>\n",
       "      <td>Day of Defeat: Source</td>\n",
       "      <td>0</td>\n",
       "      <td>300</td>\n",
       "      <td>76561198057012202</td>\n",
       "    </tr>\n",
       "    <tr>\n",
       "      <th>0</th>\n",
       "      <td>Just Cause 2: Multiplayer Mod</td>\n",
       "      <td>126</td>\n",
       "      <td>259080</td>\n",
       "      <td>76561198057012202</td>\n",
       "    </tr>\n",
       "  </tbody>\n",
       "</table>\n",
       "</div>"
      ],
      "text/plain": [
       "                            name  playtime Game_ids           Steam_id\n",
       "0                     Earth 2160       123     1900  76561198034646814\n",
       "0                Team Fortress 2        22      440  76561198034646814\n",
       "0          Day of Defeat: Source         0      300  76561198057012202\n",
       "0  Just Cause 2: Multiplayer Mod       126   259080  76561198057012202"
      ]
     },
     "execution_count": 15,
     "metadata": {},
     "output_type": "execute_result"
    }
   ],
   "source": [
    "count = 0\n",
    "for i in steam_ids_test:\n",
    "    play_id = steam_ids_test[count]\n",
    "    play_data = users_with_games0[play_id]\n",
    "    players_games = list(play_data.keys())\n",
    "    count2 = 0\n",
    "    \n",
    "    for j in players_games:\n",
    "        if j == players_games[0]:\n",
    "            play_data1 = users_with_games0[str(i)][str(j)]\n",
    "            dataset = pd.DataFrame(play_data1, index = [0])\n",
    "            dataset['Game_ids'] = players_games[count2]\n",
    "            dataset['Steam_id'] = steam_ids_test[count]\n",
    "            \n",
    "        else:\n",
    "            play_data2 = users_with_games0[str(i)][str(j)]\n",
    "            dataset2 = pd.DataFrame(play_data2, index = [0])\n",
    "            dataset2['Game_ids'] = players_games[count2]\n",
    "            dataset2['Steam_id'] = steam_ids_test[count]\n",
    "            dataset3 = dataset.append(dataset2)\n",
    "\n",
    "        count2 = count2 + 1\n",
    "        \n",
    "    if i == steam_ids_test[0]:\n",
    "        final_dataset = dataset3\n",
    "    else:\n",
    "        final_dataset = final_dataset.append(dataset3)\n",
    "        \n",
    "    count = count + 1\n",
    "final_dataset\n",
    "\n",
    "#dataset.to_csv('user_game_play_data.csv', index = False)    \n"
   ]
  },
  {
   "cell_type": "markdown",
   "metadata": {},
   "source": [
    "NOTE: Everything seems to be working except the steam ids"
   ]
  },
  {
   "cell_type": "code",
   "execution_count": null,
   "metadata": {},
   "outputs": [],
   "source": []
  }
 ],
 "metadata": {
  "kernelspec": {
   "display_name": "Python 3",
   "language": "python",
   "name": "python3"
  },
  "language_info": {
   "codemirror_mode": {
    "name": "ipython",
    "version": 3
   },
   "file_extension": ".py",
   "mimetype": "text/x-python",
   "name": "python",
   "nbconvert_exporter": "python",
   "pygments_lexer": "ipython3",
   "version": "3.7.3"
  }
 },
 "nbformat": 4,
 "nbformat_minor": 4
}
