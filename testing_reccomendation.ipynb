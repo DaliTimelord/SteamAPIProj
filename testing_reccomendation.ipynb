{
 "cells": [
  {
   "cell_type": "code",
   "execution_count": 2,
   "metadata": {},
   "outputs": [],
   "source": [
    "import pandas as pd\n",
    "import numpy as np\n",
    "from scipy.sparse import lil_matrix\n",
    "from sklearn import neighbors\n",
    "KNN = neighbors.KNeighborsClassifier(metric='euclidean', n_neighbors=1)\n",
    "from sklearn.model_selection import train_test_split\n",
    "#Steam ID will be label\n",
    "#Playhours will be data"
   ]
  },
  {
   "cell_type": "code",
   "execution_count": 3,
   "metadata": {},
   "outputs": [],
   "source": [
    "user_data = pd.read_csv('ml_cleaned_user_data.csv')"
   ]
  },
  {
   "cell_type": "markdown",
   "metadata": {},
   "source": [
    "First let's create a list of all the user's steam ideas to act as our labels"
   ]
  },
  {
   "cell_type": "code",
   "execution_count": 4,
   "metadata": {},
   "outputs": [
    {
     "name": "stdout",
     "output_type": "stream",
     "text": [
      "76561197960771844\n"
     ]
    }
   ],
   "source": [
    "steam_ids = list(user_data['Steam_id'])\n",
    "print(steam_ids[0])\n",
    "steam_ids = steam_ids[1:418]"
   ]
  },
  {
   "cell_type": "markdown",
   "metadata": {},
   "source": [
    "Next let's drop the Steam_ids from the dataset and save the playtime values as an array"
   ]
  },
  {
   "cell_type": "code",
   "execution_count": 5,
   "metadata": {},
   "outputs": [],
   "source": [
    "ml_data = user_data.drop(['Steam_id'],axis=1).values"
   ]
  },
  {
   "cell_type": "markdown",
   "metadata": {},
   "source": [
    "Now let's convert this array into a sparse matrix which will get rid of all the 0s. "
   ]
  },
  {
   "cell_type": "code",
   "execution_count": 6,
   "metadata": {},
   "outputs": [
    {
     "data": {
      "text/plain": [
       "<18726x417 sparse matrix of type '<class 'numpy.float64'>'\n",
       "\twith 84999 stored elements in LInked List format>"
      ]
     },
     "execution_count": 6,
     "metadata": {},
     "output_type": "execute_result"
    }
   ],
   "source": [
    "test = lil_matrix(ml_data)\n",
    "sparse_mat = lil_matrix.transpose(test)\n",
    "sparse_mat"
   ]
  },
  {
   "cell_type": "markdown",
   "metadata": {},
   "source": [
    "Great! But we have the values but they aren't corresponding to any game_id keys so let's save all the column labels into a list so we map the game to the playtime"
   ]
  },
  {
   "cell_type": "code",
   "execution_count": 7,
   "metadata": {},
   "outputs": [],
   "source": [
    "column_labels = list(user_data.columns)\n",
    "column_labels = column_labels[1:]"
   ]
  },
  {
   "cell_type": "code",
   "execution_count": 8,
   "metadata": {},
   "outputs": [],
   "source": [
    "one_user = ml_data[0]"
   ]
  },
  {
   "cell_type": "markdown",
   "metadata": {},
   "source": [
    "Now we have the Column labels and a sparse matrix we divide up the data randomly and run it through a nearest neighbors algo. Note that we have to transpose the matrix orignally and now again in order for the train test split function not to divide up the rows into two different dataset."
   ]
  },
  {
   "cell_type": "code",
   "execution_count": 9,
   "metadata": {},
   "outputs": [],
   "source": [
    "playtime_train0, playtime_test0  = train_test_split(sparse_mat, test_size=0.1, random_state=1)\n",
    "\n",
    "playtime_train1 = lil_matrix.transpose(playtime_train0)\n",
    "playtime_train2 = lil_matrix.toarray(playtime_train1)\n",
    "playtime_train = playtime_train2[1:418]\n",
    "\n",
    "playtime_test1 = lil_matrix.transpose(playtime_test0)\n",
    "playtime_test2 = lil_matrix.toarray(playtime_test1)\n",
    "playtime_test = playtime_test2[1:418]"
   ]
  },
  {
   "cell_type": "code",
   "execution_count": 10,
   "metadata": {},
   "outputs": [
    {
     "data": {
      "text/plain": [
       "numpy.ndarray"
      ]
     },
     "execution_count": 10,
     "metadata": {},
     "output_type": "execute_result"
    }
   ],
   "source": [
    "one_user = playtime_train2[0]\n",
    "type(one_user)"
   ]
  },
  {
   "cell_type": "code",
   "execution_count": 21,
   "metadata": {},
   "outputs": [
    {
     "data": {
      "text/plain": [
       "array([76561198353100024], dtype=int64)"
      ]
     },
     "execution_count": 21,
     "metadata": {},
     "output_type": "execute_result"
    }
   ],
   "source": [
    "nn = neighbors.KNeighborsClassifier(n_neighbors=1, metric='euclidean')\n",
    "nn.fit(playtime_train,steam_ids)\n",
    "#nn.kneighbors([one_user])\n",
    "similar_user = nn.predict([one_user])\n",
    "similar_user"
   ]
  },
  {
   "cell_type": "code",
   "execution_count": 12,
   "metadata": {},
   "outputs": [
    {
     "data": {
      "text/plain": [
       "'578080'"
      ]
     },
     "execution_count": 12,
     "metadata": {},
     "output_type": "execute_result"
    }
   ],
   "source": [
    "similar_user = nn.predict([one_user])\n",
    "similar_user = str(similar_user[0])\n",
    "similar_user_data = user_data.query('Steam_id == ' + similar_user )\n",
    "similar_user_data = similar_user_data.drop(['Steam_id'], axis=1)\n",
    "user_gameplay_data = user_data.query('Steam_id == 76561197960771844')\n",
    "\n",
    "for i in (column_labels):    \n",
    "    one_game_sim_user = int(similar_user_data[str(i)].values[0])\n",
    "    \n",
    "    one_game_user = int(user_gameplay_data[str(i)].values[0])\n",
    "    \n",
    "    if one_game_sim_user == 0 & one_game_user == 0:\n",
    "        similar_user_data = similar_user_data.drop([str(i)], axis =1)\n",
    "        user_gameplay_data = user_gameplay_data.drop([str(i)], axis = 1)\n",
    "    elif one_game_sim_user == 0 & one_game_user > 0:\n",
    "        similar_user_data = similar_user_data.drop([str(i)], axis = 1)\n",
    "        user_gameplay_data = user_gameplay_data.drop([str(i)], axis =1)\n",
    "\n"
   ]
  },
  {
   "cell_type": "code",
   "execution_count": 19,
   "metadata": {},
   "outputs": [
    {
     "data": {
      "text/plain": [
       "'578080'"
      ]
     },
     "execution_count": 19,
     "metadata": {},
     "output_type": "execute_result"
    }
   ],
   "source": [
    "game_suggestion = 0\n",
    "for i in similar_user_data:\n",
    "    one_game_sim_user2 = int(similar_user_data[str(i)].values[0])   \n",
    "    \n",
    "    if one_game_sim_user2 > game_suggestion:\n",
    "        game_suggestion = one_game_sim_user2\n",
    "        final_suggestion = i \n",
    "\n",
    "final_suggestion"
   ]
  },
  {
   "cell_type": "code",
   "execution_count": 17,
   "metadata": {},
   "outputs": [
    {
     "data": {
      "text/html": [
       "<div>\n",
       "<style scoped>\n",
       "    .dataframe tbody tr th:only-of-type {\n",
       "        vertical-align: middle;\n",
       "    }\n",
       "\n",
       "    .dataframe tbody tr th {\n",
       "        vertical-align: top;\n",
       "    }\n",
       "\n",
       "    .dataframe thead th {\n",
       "        text-align: right;\n",
       "    }\n",
       "</style>\n",
       "<table border=\"1\" class=\"dataframe\">\n",
       "  <thead>\n",
       "    <tr style=\"text-align: right;\">\n",
       "      <th></th>\n",
       "      <th>550</th>\n",
       "      <th>570</th>\n",
       "      <th>730</th>\n",
       "      <th>221380</th>\n",
       "      <th>271590</th>\n",
       "      <th>368360</th>\n",
       "      <th>381210</th>\n",
       "      <th>433850</th>\n",
       "      <th>578080</th>\n",
       "    </tr>\n",
       "  </thead>\n",
       "  <tbody>\n",
       "    <tr>\n",
       "      <th>355</th>\n",
       "      <td>438.0</td>\n",
       "      <td>22161.0</td>\n",
       "      <td>86267.0</td>\n",
       "      <td>1593.0</td>\n",
       "      <td>1694.0</td>\n",
       "      <td>136.0</td>\n",
       "      <td>5.0</td>\n",
       "      <td>24964.0</td>\n",
       "      <td>185193.0</td>\n",
       "    </tr>\n",
       "  </tbody>\n",
       "</table>\n",
       "</div>"
      ],
      "text/plain": [
       "       550      570      730  221380  271590  368360  381210   433850  \\\n",
       "355  438.0  22161.0  86267.0  1593.0  1694.0   136.0     5.0  24964.0   \n",
       "\n",
       "       578080  \n",
       "355  185193.0  "
      ]
     },
     "execution_count": 17,
     "metadata": {},
     "output_type": "execute_result"
    }
   ],
   "source": [
    "similar_user_data"
   ]
  },
  {
   "cell_type": "code",
   "execution_count": null,
   "metadata": {},
   "outputs": [],
   "source": []
  }
 ],
 "metadata": {
  "kernelspec": {
   "display_name": "Python 3",
   "language": "python",
   "name": "python3"
  },
  "language_info": {
   "codemirror_mode": {
    "name": "ipython",
    "version": 3
   },
   "file_extension": ".py",
   "mimetype": "text/x-python",
   "name": "python",
   "nbconvert_exporter": "python",
   "pygments_lexer": "ipython3",
   "version": "3.7.3"
  }
 },
 "nbformat": 4,
 "nbformat_minor": 4
}
