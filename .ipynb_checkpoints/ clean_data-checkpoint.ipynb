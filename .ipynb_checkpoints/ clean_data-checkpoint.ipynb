{
 "cells": [
  {
   "cell_type": "code",
   "execution_count": null,
   "metadata": {},
   "outputs": [],
   "source": []
  },
  {
   "cell_type": "code",
   "execution_count": 3,
   "metadata": {},
   "outputs": [],
   "source": [
    "import requests\n",
    "import re\n",
    "import json\n",
    "from multiprocessing import Pool\n",
    "import pandas as pd\n",
    "from pandas.io.json import json_normalize\n",
    "\n",
    "# Function defined in another file to get it to work with multiprocessing\n",
    "from get_game_metadata import get_game_metadata"
   ]
  },
  {
   "cell_type": "code",
   "execution_count": 2,
   "metadata": {},
   "outputs": [],
   "source": [
    "steam_ids0 = json.load(open('steam_ids.json', 'r'))\n",
    "users_with_games0 = json.load(open('users_with_games.json','r'))\n",
    "all_games0 = json.load(open('all_games_from_users.json','r'))"
   ]
  },
  {
   "cell_type": "markdown",
   "metadata": {},
   "source": [
    "First we'll start with getting the game data:"
   ]
  },
  {
   "cell_type": "code",
   "execution_count": 3,
   "metadata": {},
   "outputs": [],
   "source": [
    "game_keys = list(all_games0.keys())\n",
    "game_keys_test = game_keys[0:9]"
   ]
  },
  {
   "cell_type": "code",
   "execution_count": 4,
   "metadata": {},
   "outputs": [],
   "source": [
    "count = 0\n",
    "for i in game_keys:\n",
    "    if i == game_keys[0]:\n",
    "        x = all_games0[str(i)]\n",
    "        full_dataset = pd.DataFrame(x)\n",
    "        full_dataset['Game_ID'] = game_keys[count]\n",
    "        count = count + 1\n",
    "    else:\n",
    "        z = all_games0[str(i)]\n",
    "        z = pd.DataFrame(z)\n",
    "        z['Game_ID'] = game_keys[count]\n",
    "        full_dataset =  full_dataset.append(z)\n",
    "        count = count + 1\n",
    "\n",
    "full_dataset.to_csv('game_play_data.csv', index = False)\n"
   ]
  },
  {
   "cell_type": "markdown",
   "metadata": {},
   "source": [
    "Next we'll get the game play data"
   ]
  },
  {
   "cell_type": "code",
   "execution_count": 8,
   "metadata": {},
   "outputs": [],
   "source": [
    "# steam_ids = list(users_with_games0.keys())\n",
    "# steam_ids_test = steam_ids[7:9]\n",
    "# len(steam_ids)"
   ]
  },
  {
   "cell_type": "code",
   "execution_count": 7,
   "metadata": {},
   "outputs": [],
   "source": [
    "# Was taking too long with a lot of data. See below for faster code\n",
    "\n",
    "# count = 0\n",
    "# for i in steam_ids:\n",
    "#     play_id = steam_ids[count]\n",
    "#     play_data = users_with_games0[play_id]\n",
    "#     players_games = list(play_data.keys())\n",
    "#     count2 = 0\n",
    "    \n",
    "#     for j in players_games:\n",
    "#         if j == players_games[0]:\n",
    "#             play_data1 = users_with_games0[str(i)][str(j)]\n",
    "#             dataset = pd.DataFrame(play_data1, index = [0])\n",
    "#             dataset['Game_ids'] = players_games[count2]\n",
    "#         else:\n",
    "#             play_data2 = users_with_games0[str(i)][str(j)]\n",
    "#             dataset2 = pd.DataFrame(play_data2, index = [0])\n",
    "#             dataset2['Game_ids'] = players_games[count2]\n",
    "#             dataset = dataset.append(dataset2)\n",
    "#         count2 = count2 + 1\n",
    "        \n",
    "#     if i == steam_ids[0]:\n",
    "#         dataset['Steam_id'] = steam_ids[count]\n",
    "#         final_dataset = dataset\n",
    "#     else:\n",
    "#         dataset['Steam_id'] = steam_ids[count]\n",
    "#         final_dataset = final_dataset.append(dataset)\n",
    "        \n",
    "#     count = count + 1\n",
    "\n",
    "# final_dataset.to_csv('user_game_play_data.csv', index = False)    \n"
   ]
  },
  {
   "cell_type": "code",
   "execution_count": 4,
   "metadata": {},
   "outputs": [],
   "source": [
    "users_with_games = json.load(open('users_with_games.json','r'))\n",
    "\n",
    "game_names = []\n",
    "game_ids = []\n",
    "playtimes = []\n",
    "user_ids = []\n",
    "for user_id, games in users_with_games.items():\n",
    "    for game_id, data in games.items():\n",
    "        user_ids.append(user_id)\n",
    "        game_names.append(data['name'])\n",
    "        game_ids.append(game_id)\n",
    "        playtimes.append(data['playtime'])\n",
    "        \n",
    "df = pd.DataFrame({'Steam_id': user_ids, 'name': game_names, 'Game_ids': game_ids, 'playtime': playtimes})\n",
    "df.to_csv('user_gameplay_data.csv', index=False)"
   ]
  },
  {
   "cell_type": "code",
   "execution_count": null,
   "metadata": {},
   "outputs": [],
   "source": []
  }
 ],
 "metadata": {
  "kernelspec": {
   "display_name": "Python 3",
   "language": "python",
   "name": "python3"
  },
  "language_info": {
   "codemirror_mode": {
    "name": "ipython",
    "version": 3
   },
   "file_extension": ".py",
   "mimetype": "text/x-python",
   "name": "python",
   "nbconvert_exporter": "python",
   "pygments_lexer": "ipython3",
   "version": "3.7.3"
  }
 },
 "nbformat": 4,
 "nbformat_minor": 4
}
