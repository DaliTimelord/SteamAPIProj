{
 "cells": [
  {
   "cell_type": "code",
   "execution_count": null,
   "metadata": {},
   "outputs": [],
   "source": [
    "import requests\n",
    "import json\n",
    "\n",
    "with open('auth.json', 'r') as auth:\n",
    "    auth_data = json.load(auth)\n",
    "key = auth_data['key']\n",
    "    \n",
    "def get_friend_ids(id):\n",
    "    r = requests.get('http://api.steampowered.com/ISteamUser/GetFriendList/v0001/?key={0}&steamid={1}&relationship=friend'.format(key, id)).text\n",
    "    r = json.loads(r)\n",
    "    friends = r[\"friendslist\"][\"friends\"]\n",
    "    \n",
    "    friend_ids = []\n",
    "    for friend in friends:\n",
    "        if (friend['friend_since'] != 0):\n",
    "            friend_ids.append(friend['steamid'])\n",
    "    return friend_ids\n",
    "\n",
    "def main():\n",
    "    print(get_friend_ids('76561197960435530'))\n",
    "    \n",
    "main()"
   ]
  },
  {
   "cell_type": "code",
   "execution_count": null,
   "metadata": {},
   "outputs": [],
   "source": []
  }
 ],
 "metadata": {
  "kernelspec": {
   "display_name": "Python 3",
   "language": "python",
   "name": "python3"
  },
  "language_info": {
   "codemirror_mode": {
    "name": "ipython",
    "version": 3
   },
   "file_extension": ".py",
   "mimetype": "text/x-python",
   "name": "python",
   "nbconvert_exporter": "python",
   "pygments_lexer": "ipython3",
   "version": "3.7.3"
  }
 },
 "nbformat": 4,
 "nbformat_minor": 4
}
