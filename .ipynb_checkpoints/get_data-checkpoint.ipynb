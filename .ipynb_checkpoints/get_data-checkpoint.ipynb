{
 "cells": [
  {
   "cell_type": "code",
   "execution_count": 1,
   "metadata": {},
   "outputs": [],
   "source": [
    "import requests\n",
    "import re\n",
    "import json\n",
    "from pathlib import Path\n",
    "from multiprocessing import Pool\n",
    "\n",
    "# Function defined in another file to get it to work with multiprocessing\n",
    "from get_game_metadata import get_game_metadata\n",
    "\n",
    "with open('auth.json', 'r') as auth:\n",
    "    auth_data = json.load(auth)\n",
    "key = auth_data['key']\n",
    "\n",
    "def get_friend_ids(steam_id): \n",
    "    try:\n",
    "        res = json.loads(requests.get('http://api.steampowered.com/ISteamUser/GetFriendList/v0001/?key={0}&steamid={1}&relationship=friend'.format(key, steam_id), timeout=60).text)\n",
    "    except:\n",
    "        return []\n",
    "    \n",
    "    friends = []\n",
    "    if 'friendslist' in res:\n",
    "        friendslist = res['friendslist']\n",
    "        if 'friends' in friendslist:\n",
    "            friends = friendslist['friends']\n",
    "    \n",
    "    friend_ids = []\n",
    "    for friend in friends:\n",
    "        friend_ids.append(friend['steamid'])\n",
    "    return friend_ids\n",
    "\n",
    "# Modifies complete_set input with unique Steam IDs\n",
    "def run_friend_traversal(start_id, levels, complete_set):\n",
    "    MAX_FRIEND_SEARCH = 30000\n",
    "    \n",
    "    if Path('steam_ids.json').is_file():\n",
    "        with open('steam_ids.json') as file:\n",
    "            complete_set.update(json.load(file)['steam_ids'])\n",
    "\n",
    "    complete_set.add(start_id)         \n",
    "    current_list = get_friend_ids(start_id)\n",
    "    \n",
    "    friend_count = 1\n",
    "    while levels > 0 and friend_count <= MAX_FRIEND_SEARCH:\n",
    "        levels -= 1;\n",
    "        new_ids = set([])\n",
    "        \n",
    "        if levels > 0:\n",
    "            for friend in current_list:\n",
    "                if friend not in complete_set:\n",
    "                    if friend_count >= MAX_FRIEND_SEARCH:\n",
    "                        return\n",
    "                    print('Getting friends list [{0} / {1}]'.format(friend_count, MAX_FRIEND_SEARCH), end='\\r')\n",
    "                    complete_set.add(friend)\n",
    "                    found_ids = get_friend_ids(friend)\n",
    "                    friend_count += 1\n",
    "                    new_ids.update(found_ids)\n",
    "        current_list = new_ids.copy()\n",
    "    \n",
    "def get_games(steam_id):\n",
    "    try:\n",
    "        res = json.loads(requests.get('http://api.steampowered.com/IPlayerService/GetOwnedGames/v0001/?key={0}&steamid={1}&format=json&include_appinfo=true&include_played_free_games=true'.format(key, steam_id)).text)\n",
    "        res = res['response']\n",
    "    except:\n",
    "        print('Error getting games')\n",
    "        return []\n",
    "    \n",
    "    games = []\n",
    "    if 'games' in res:\n",
    "        games = res['games']\n",
    "    return games"
   ]
  },
  {
   "cell_type": "code",
   "execution_count": 60,
   "metadata": {},
   "outputs": [
    {
     "name": "stdout",
     "output_type": "stream",
     "text": [
      "etc.json file saved with 187697 entries!\n"
     ]
    }
   ],
   "source": [
    "# Get User IDs (already retrieved ~150,000 users, check Google Drive)\n",
    "\n",
    "# complete_set = set([])\n",
    "# run_friend_traversal('76561198017054389', 5, complete_set)\n",
    "\n",
    "# steam_ids = {'steam_ids': list(complete_set)}\n",
    "# with open('Data/etc.json', 'w') as out:\n",
    "#     json.dump(steam_ids, out)\n",
    "# print('etc.json file saved with {0} entries!'.format(len(complete_set)))"
   ]
  },
  {
   "cell_type": "code",
   "execution_count": 13,
   "metadata": {},
   "outputs": [],
   "source": [
    "# Get All Steam Games (very quick run time)\n",
    "\n",
    "# with open('Data/all_games_basic.json', 'w') as out:\n",
    "#     all_games = json.loads(requests.get('https://api.steampowered.com/ISteamApps/GetAppList/v2/').text)\n",
    "#     json.dump(json.loads(requests.get('https://api.steampowered.com/ISteamApps/GetAppList/v2/').text), out)\n",
    "#     print('all_games_basic.json saved with {0} entries'.format(len(all_games)))"
   ]
  },
  {
   "cell_type": "code",
   "execution_count": 5,
   "metadata": {},
   "outputs": [],
   "source": [
    "# Get Metadata for All Games (will take ~19 hours but provides data for ALL games currently on the Steam store)\n",
    "\n",
    "# with open('Data/all_games_basic.json', 'r') as file:\n",
    "#     all_games = json.load(file)['applist']['apps']\n",
    "\n",
    "# updated_games = {}\n",
    "# count = 1\n",
    "# for game in all_games:\n",
    "#     if count > 100:\n",
    "#         break\n",
    "#     print('Processing games [{0} / {1}]'.format(count, len(all_games)))\n",
    "#     rating, tags, dlc = get_game_metadata(game['appid'])\n",
    "#     if not dlc:\n",
    "#         updated_games[game['appid']] = {'name': game['name'], 'rating': rating, 'tags': tags}\n",
    "#     count += 1\n",
    "\n",
    "# with open('Data/all_games.json', 'w') as out:\n",
    "#     json.dump(updated_games, out)\n",
    "#     print('all_games.json saved with {0} entries'.format(len(updated_games)))"
   ]
  },
  {
   "cell_type": "code",
   "execution_count": 2,
   "metadata": {},
   "outputs": [
    {
     "name": "stdout",
     "output_type": "stream",
     "text": [
      "all_games_from_users.json saved with 21608 entries\n",
      "users_with_games.json saved with 3151 entries\n"
     ]
    }
   ],
   "source": [
    "import datetime\n",
    "\n",
    "with open('steam_ids.json', 'r') as file:\n",
    "    steam_ids = json.load(file)['steam_ids']\n",
    "\n",
    "all_games_from_users = {}\n",
    "users_with_games = {}\n",
    "checked_set = set([])\n",
    "count = 1\n",
    "MAX_USERS = 20000\n",
    "\n",
    "print_lines = 1\n",
    "for steam_id in steam_ids:\n",
    "    if count > MAX_USERS:\n",
    "        break\n",
    "    print('Getting games for account [{0} / {1}]'.format(count, MAX_USERS), end='\\r')\n",
    "    current_games = get_games(steam_id)\n",
    "    if len(current_games) > 0:\n",
    "        users_with_games[steam_id] = {}\n",
    "        new_games = []\n",
    "        urls = []\n",
    "        for game in current_games:\n",
    "            users_with_games[steam_id][game['appid']] = {'name': game['name'], 'playtime': game['playtime_forever']}\n",
    "            if game['appid'] not in checked_set:\n",
    "                checked_set.add(game['appid'])\n",
    "                new_games.append(game)\n",
    "                urls.append('https://store.steampowered.com/app/{0}'.format(game['appid']))\n",
    "\n",
    "        with Pool(15) as p:\n",
    "            records = p.map(get_game_metadata, urls)\n",
    "\n",
    "        for x in range(len(new_games)):\n",
    "            if records[x]:\n",
    "                rating, tags = records[x]\n",
    "                if len(tags) > 0:\n",
    "                    game = new_games[x]\n",
    "                    all_games_from_users[game['appid']] = {'name': game['name'], 'rating': rating, 'tags': tags}\n",
    "    count += 1\n",
    "\n",
    "with open('all_games_from_users.json', 'w') as out:\n",
    "    json.dump(all_games_from_users, out)\n",
    "    print('all_games_from_users.json saved with {0} entries'.format(len(all_games_from_users)))\n",
    "\n",
    "with open('users_with_games.json', 'w') as out:\n",
    "    json.dump(users_with_games, out)\n",
    "    print('users_with_games.json saved with {0} entries'.format(len(users_with_games)))"
   ]
  },
  {
   "cell_type": "code",
   "execution_count": null,
   "metadata": {},
   "outputs": [],
   "source": []
  },
  {
   "cell_type": "code",
   "execution_count": null,
   "metadata": {},
   "outputs": [],
   "source": []
  }
 ],
 "metadata": {
  "kernelspec": {
   "display_name": "Python 3",
   "language": "python",
   "name": "python3"
  },
  "language_info": {
   "codemirror_mode": {
    "name": "ipython",
    "version": 3
   },
   "file_extension": ".py",
   "mimetype": "text/x-python",
   "name": "python",
   "nbconvert_exporter": "python",
   "pygments_lexer": "ipython3",
   "version": "3.7.3"
  }
 },
 "nbformat": 4,
 "nbformat_minor": 4
}
