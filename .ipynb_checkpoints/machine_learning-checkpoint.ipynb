{
 "cells": [
  {
   "cell_type": "code",
   "execution_count": null,
   "metadata": {},
   "outputs": [],
   "source": [
    "import pandas as pd\n",
    "import numpy as np\n",
    "\n",
    "game_data = pd.read_csv('game_play_data.csv')\n",
    "\n",
    "tags = game_data.tags.unique()\n",
    "tags_as_nums = {}\n",
    "count = 0\n",
    "for tag in tags:\n",
    "    tags_as_nums[tag] = count\n",
    "    count += 1\n",
    "\n",
    "game_ids = list(game_data.Game_ID.unique())\n",
    "game_names = []\n",
    "game_ids_final = []\n",
    "game_tags = []"
   ]
  },
  {
   "cell_type": "code",
   "execution_count": null,
   "metadata": {},
   "outputs": [],
   "source": [
    "grouped = game_data.groupby('Game_ID')\n",
    "\n",
    "for x in range(len(game_ids)):\n",
    "    grouped_game = grouped.get_group(game_ids[x])\n",
    "    t = np.array(grouped_game.tags)\n",
    "    if len(t) > 0:\n",
    "        output_tags = [0] * len(tags_as_nums)\n",
    "        for y in range(len(t)):\n",
    "            output_tags[tags_as_nums[t[y]]] = 1\n",
    "        game_names.append(grouped_game.name.unique()[0])\n",
    "        game_ids_final.append(grouped_game.Game_ID.unique()[0])\n",
    "        game_tags.append(output_tags)"
   ]
  },
  {
   "cell_type": "code",
   "execution_count": null,
   "metadata": {},
   "outputs": [],
   "source": [
    "final_data = {'game_name': game_names, 'game_id': game_ids_final, 'game_tags': game_tags}\n",
    "df = pd.DataFrame(final_data)"
   ]
  },
  {
   "cell_type": "code",
   "execution_count": null,
   "metadata": {},
   "outputs": [],
   "source": [
    "import sklearn\n",
    "from sklearn.neighbors import NearestNeighbors"
   ]
  },
  {
   "cell_type": "code",
   "execution_count": null,
   "metadata": {},
   "outputs": [],
   "source": [
    "df['game_tags'] = df['game_tags'].apply(lambda x: np.array(x))\n",
    "X = []\n",
    "for tag_list in np.array(df.game_tags):\n",
    "    X.append(tag_list)\n",
    "y = np.array(df.game_name)\n",
    "\n",
    "knn = NearestNeighbors(5, 1.0, metric='cosine')\n",
    "knn.fit(X, y)"
   ]
  },
  {
   "cell_type": "code",
   "execution_count": null,
   "metadata": {},
   "outputs": [],
   "source": [
    "# Get games similar to Counter Strike\n",
    "example = df.loc[df['game_name'] == 'Counter-Strike: Global Offensive'].game_tags\n",
    "example = np.array(example)[0]\n",
    "\n",
    "dist, name_index = knn.kneighbors([example], 200)\n",
    "\n",
    "for x in range(len(dist)):\n",
    "    print(y[name_index[x]])"
   ]
  },
  {
   "cell_type": "code",
   "execution_count": null,
   "metadata": {},
   "outputs": [],
   "source": []
  }
 ],
 "metadata": {
  "kernelspec": {
   "display_name": "Python 3",
   "language": "python",
   "name": "python3"
  },
  "language_info": {
   "codemirror_mode": {
    "name": "ipython",
    "version": 3
   },
   "file_extension": ".py",
   "mimetype": "text/x-python",
   "name": "python",
   "nbconvert_exporter": "python",
   "pygments_lexer": "ipython3",
   "version": "3.7.3"
  }
 },
 "nbformat": 4,
 "nbformat_minor": 4
}
