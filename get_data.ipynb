{
 "cells": [
  {
   "cell_type": "code",
   "execution_count": null,
   "metadata": {},
   "outputs": [],
   "source": [
    "import requests\n",
    "import json\n",
    "\n",
    "with open('auth.json', 'r') as auth:\n",
    "    auth_data = json.load(auth)\n",
    "key = auth_data['key']\n",
    "    \n",
    "def get_friend_ids(steamid):\n",
    "    r = requests.get('http://api.steampowered.com/ISteamUser/GetFriendList/v0001/?key={0}&steamid={1}&relationship=friend'.format(key, steamid)).text\n",
    "    r = json.loads(r)\n",
    "    \n",
    "    friends = r[\"friendslist\"][\"friends\"]\n",
    "    \n",
    "    friend_ids = []\n",
    "    count = 1\n",
    "    for friend in friends:\n",
    "        print('Checking friend {0}'.format(count))\n",
    "        count += 1\n",
    "        \n",
    "        r = requests.get('http://api.steampowered.com/ISteamUser/GetPlayerSummaries/v0002/?key={0}&steamids={1}'.format(key, friend)).text\n",
    "        user = json.loads(r)['response']['players'][0]\n",
    "        if (user['communityvisibilitystate'] == 3):\n",
    "            friend_ids.append(friend['steamid'])\n",
    "    return friend_ids\n",
    "\n",
    "def get_games(steamid):\n",
    "    r = requests.get('http://api.steampowered.com/IPlayerService/GetOwnedGames/v0001/?key={0}&steamid={1}&format=json'.format(key, steamid)).text\n",
    "    r = json.loads(r)['response']\n",
    "    print(r)\n",
    "    if 'games' in r:\n",
    "        games = r['games']\n",
    "        print(games)\n",
    "        return games\n",
    "        \n",
    "def main():\n",
    "    all_friends = set([])\n",
    "    current_list = get_friend_ids('76561198023414915')\n",
    "    all_friends.update(current_list)\n",
    "    \n",
    "    for friend in current_list:\n",
    "        get_games(friend)\n",
    "        \n",
    "    print(all_friends)\n",
    "    \n",
    "main()"
   ]
  },
  {
   "cell_type": "code",
   "execution_count": null,
   "metadata": {},
   "outputs": [],
   "source": []
  },
  {
   "cell_type": "code",
   "execution_count": null,
   "metadata": {},
   "outputs": [],
   "source": []
  }
 ],
 "metadata": {
  "kernelspec": {
   "display_name": "Python 3",
   "language": "python",
   "name": "python3"
  },
  "language_info": {
   "codemirror_mode": {
    "name": "ipython",
    "version": 3
   },
   "file_extension": ".py",
   "mimetype": "text/x-python",
   "name": "python",
   "nbconvert_exporter": "python",
   "pygments_lexer": "ipython3",
   "version": "3.7.3"
  }
 },
 "nbformat": 4,
 "nbformat_minor": 4
}
