{
 "cells": [
  {
   "cell_type": "code",
   "execution_count": 1,
   "metadata": {},
   "outputs": [],
   "source": [
    "request_count = 0"
   ]
  },
  {
   "cell_type": "code",
   "execution_count": 4,
   "metadata": {},
   "outputs": [],
   "source": [
    "import requests\n",
    "import re\n",
    "import json\n",
    "from multiprocessing import Pool\n",
    "\n",
    "# Function defined in another file to get it to work with multiprocessing\n",
    "from get_game_metadata import get_game_metadata\n",
    "\n",
    "with open('auth.json', 'r') as auth:\n",
    "    auth_data = json.load(auth)\n",
    "key = auth_data['key']\n",
    "\n",
    "def get_friend_ids(steam_id):\n",
    "    global request_count\n",
    "    print('Sending request to get friendlist data [{0}]...'.format(request_count))\n",
    "    request_count += 1\n",
    "    \n",
    "    res = json.loads(requests.get('http://api.steampowered.com/ISteamUser/GetFriendList/v0001/?key={0}&steamid={1}&relationship=friend'.format(key, steam_id)).text)\n",
    "    \n",
    "    friends = []\n",
    "    if 'friendslist' in res:\n",
    "        friendslist = res['friendslist']\n",
    "        if 'friends' in friendslist:\n",
    "            friends = friendslist['friends']\n",
    "    \n",
    "    friend_ids = []\n",
    "    for friend in friends:\n",
    "        friend_ids.append(friend['steamid'])\n",
    "    return friend_ids\n",
    "\n",
    "# Modifies complete_set input\n",
    "def get_friend_traversal(start_id, levels, complete_set):\n",
    "    complete_set.add(start_id)         \n",
    "    current_list = get_friend_ids(start_id)\n",
    "    \n",
    "    while levels > 0:\n",
    "        levels -= 1;\n",
    "        temp_list = []\n",
    "        for friend in current_list:\n",
    "            if friend not in complete_set:\n",
    "                complete_set.add(friend)\n",
    "                if levels > 0:\n",
    "                    new_ids = get_friend_ids(friend)\n",
    "                    if len(new_ids) > 0:\n",
    "                        temp_list.extend(new_ids)\n",
    "        current_list = temp_list.copy()\n",
    "    \n",
    "def get_games(steam_id):\n",
    "    res = json.loads(requests.get('http://api.steampowered.com/IPlayerService/GetOwnedGames/v0001/?key={0}&steamid={1}&format=json&include_appinfo=true&include_played_free_games=true'.format(key, steam_id)).text)\n",
    "    res = res['response']\n",
    "    games = []\n",
    "    if 'games' in res:\n",
    "        games = res['games']\n",
    "    return games"
   ]
  },
  {
   "cell_type": "code",
   "execution_count": 3,
   "metadata": {},
   "outputs": [
    {
     "ename": "NameError",
     "evalue": "name 'games' is not defined",
     "output_type": "error",
     "traceback": [
      "\u001b[1;31m---------------------------------------------------------------------------\u001b[0m",
      "\u001b[1;31mNameError\u001b[0m                                 Traceback (most recent call last)",
      "\u001b[1;32m<ipython-input-3-82793192b7cd>\u001b[0m in \u001b[0;36m<module>\u001b[1;34m\u001b[0m\n\u001b[1;32m----> 1\u001b[1;33m \u001b[0mgames\u001b[0m\u001b[1;33m\u001b[0m\u001b[1;33m\u001b[0m\u001b[0m\n\u001b[0m",
      "\u001b[1;31mNameError\u001b[0m: name 'games' is not defined"
     ]
    }
   ],
   "source": [
    "games"
   ]
  },
  {
   "cell_type": "code",
   "execution_count": 3,
   "metadata": {},
   "outputs": [],
   "source": [
    "# Get User IDs (already retrieved ~150,000 users, check Google Drive)\n",
    "\n",
    "# complete_set = set([])\n",
    "# get_friend_traversal('76561198023414915', 2, complete_set)\n",
    "# get_friend_traversal('76561198048033045', 2, complete_set)\n",
    "# get_friend_traversal('76561198163038211', 2, complete_set)\n",
    "\n",
    "# steam_ids = {'steam_ids': complete_set}\n",
    "# with open('steam_ids.json', 'w') as out:\n",
    "#     json.dump(steam_ids, out)\n",
    "# print('steam_ids.json file saved with {1} entries!'.format(len(friends)))"
   ]
  },
  {
   "cell_type": "code",
   "execution_count": 4,
   "metadata": {},
   "outputs": [],
   "source": [
    "# Get All Steam Games (very quick run time)\n",
    "\n",
    "# with open('all_games_basic.json', 'w') as out:\n",
    "#     all_games = json.loads(requests.get('https://api.steampowered.com/ISteamApps/GetAppList/v2/').text)\n",
    "#     json.dump(json.loads(requests.get('https://api.steampowered.com/ISteamApps/GetAppList/v2/').text), out)\n",
    "#     print('all_games_basic.json saved with {0} entries'.format(len(all_games)))"
   ]
  },
  {
   "cell_type": "code",
   "execution_count": 5,
   "metadata": {},
   "outputs": [],
   "source": [
    "# Get Metadata for All Games (will take ~19 hours but provides data for ALL games currently on the Steam store)\n",
    "\n",
    "# with open('all_games_basic.json', 'r') as file:\n",
    "#     all_games = json.load(file)['applist']['apps']\n",
    "\n",
    "# updated_games = {}\n",
    "# count = 1\n",
    "# for game in all_games:\n",
    "#     if count > 100:\n",
    "#         break\n",
    "#     print('Processing games [{0} / {1}]'.format(count, len(all_games)))\n",
    "#     rating, tags, dlc = get_game_metadata(game['appid'])\n",
    "#     if not dlc:\n",
    "#         updated_games[game['appid']] = {'name': game['name'], 'rating': rating, 'tags': tags}\n",
    "#     count += 1\n",
    "\n",
    "# with open('all_games.json', 'w') as out:\n",
    "#     json.dump(updated_games, out)\n",
    "#     print('all_games.json saved with {0} entries'.format(len(updated_games)))"
   ]
  },
  {
   "cell_type": "code",
   "execution_count": 15,
   "metadata": {},
   "outputs": [
    {
     "name": "stdout",
     "output_type": "stream",
     "text": [
      "users_with_games.json saved with 417 entries\n"
     ]
    }
   ],
   "source": [
    "import datetime\n",
    "\n",
    "with open('steam_ids.json', 'r') as file:\n",
    "    steam_ids = json.load(file)['steam_ids']\n",
    "\n",
    "all_games_from_users = {}\n",
    "users_with_games = {}\n",
    "count = 1\n",
    "MAX_USERS = 1000\n",
    "\n",
    "print_lines = 1\n",
    "for steam_id in steam_ids:\n",
    "    if count > MAX_USERS:\n",
    "        break\n",
    "    print('Getting games for account [{0} / {1}]'.format(count, MAX_USERS), end='\\r')\n",
    "    current_games = get_games(steam_id)\n",
    "    if len(current_games) > 0:\n",
    "        users_with_games[steam_id] = {}\n",
    "        new_games = []\n",
    "        urls = []\n",
    "        for game in current_games:\n",
    "            users_with_games[steam_id][game['appid']] = {'name': game['name'], 'playtime': game['playtime_forever']}\n",
    "            if game['appid'] not in all_games_from_users:\n",
    "                new_games.append(game)\n",
    "                urls.append('https://store.steampowered.com/app/{0}'.format(game['appid']))\n",
    "        \n",
    "        with Pool(15) as p:\n",
    "            records = p.map(get_game_metadata, urls)\n",
    "\n",
    "        for x in range(len(new_games)):\n",
    "            if records[x]:\n",
    "                rating, tags, dlc = records[x]\n",
    "                if not dlc:\n",
    "                    all_games_from_users[new_games[x]['appid']] = {'name': new_games[x]['name'], 'rating': rating, 'tags': tags}\n",
    "    count += 1\n",
    "\n",
    "with open('all_games_from_users.json', 'w') as out:\n",
    "    json.dump(all_games_from_users, out)\n",
    "    print('all_games_from_users.json saved with {0} entries'.format(len(all_games_from_users)))\n",
    "\n",
    "with open('users_with_games.json', 'w') as out:\n",
    "    json.dump(users_with_games, out)\n",
    "    print('users_with_games.json saved with {0} entries'.format(len(users_with_games)))"
   ]
  },
  {
   "cell_type": "code",
   "execution_count": 233,
   "metadata": {},
   "outputs": [],
   "source": []
  },
  {
   "cell_type": "code",
   "execution_count": null,
   "metadata": {},
   "outputs": [],
   "source": []
  }
 ],
 "metadata": {
  "kernelspec": {
   "display_name": "Python 3",
   "language": "python",
   "name": "python3"
  },
  "language_info": {
   "codemirror_mode": {
    "name": "ipython",
    "version": 3
   },
   "file_extension": ".py",
   "mimetype": "text/x-python",
   "name": "python",
   "nbconvert_exporter": "python",
   "pygments_lexer": "ipython3",
   "version": "3.7.3"
  }
 },
 "nbformat": 4,
 "nbformat_minor": 4
}
